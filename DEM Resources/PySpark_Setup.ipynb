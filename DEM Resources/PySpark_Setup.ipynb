{
  "nbformat": 4,
  "nbformat_minor": 0,
  "metadata": {
    "colab": {
      "provenance": []
    },
    "kernelspec": {
      "name": "python3",
      "display_name": "Python 3"
    },
    "language_info": {
      "name": "python"
    }
  },
  "cells": [
    {
      "cell_type": "markdown",
      "source": [
        "#Installing and setting up PySpark"
      ],
      "metadata": {
        "id": "JgXwAyZa_LCx"
      }
    },
    {
      "cell_type": "markdown",
      "source": [
        "In the *Setting up PySpark* lesson in the *Introduction to PySpark* module, you took several steps to install and configure your Google Colab runtime to work with PySpark. These steps and configurations remain valid for the duration of a Colab session. However, by the nature of Colab, sessions don’t last forever.  \n",
        "\n",
        "##When to run the setup steps\n",
        "If you step away from your active notebook after you’ve finished a lesson, and then come back the next day, you might be dealing with a brand new Colab session. This means that you have to repeat the setup steps.\n",
        "\n",
        "Here's a single code block combining all the steps that you can run in a code cell when you start a new Colab session devoted to this course:"
      ],
      "metadata": {
        "id": "gsSnddYxA7HV"
      }
    },
    {
      "cell_type": "code",
      "source": [
        "!apt-get update\n",
        "!apt-get install openjdk-8-jdk-headless -qq > /dev/null\n",
        "!wget -q http://archive.apache.org/dist/spark/spark-3.1.1/spark-3.1.1-bin-hadoop3.2.tgz\n",
        "!tar xf spark-3.1.1-bin-hadoop3.2.tgz\n",
        "!pip install -q findspark\n",
        "\n",
        "import os\n",
        "os.environ[\"JAVA_HOME\"] = \"/usr/lib/jvm/java-8-openjdk-amd64\"\n",
        "os.environ[\"SPARK_HOME\"] = \"/content/spark-3.1.1-bin-hadoop3.2\"\n",
        "\n",
        "import findspark\n",
        "findspark.init()\n",
        "from pyspark.sql import SparkSession\n",
        "spark = SparkSession.builder.master(\"local[*]\").getOrCreate()\n",
        "spark.conf.set(\"spark.sql.repl.eagerEval.enabled\", True) # Property used to format output tables better\n",
        "sc = spark.sparkContext"
      ],
      "metadata": {
        "id": "GeauCBeiDF5j"
      },
      "execution_count": null,
      "outputs": []
    }
  ]
}