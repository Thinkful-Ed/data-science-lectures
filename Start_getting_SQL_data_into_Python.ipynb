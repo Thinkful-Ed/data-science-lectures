{
  "cells": [
    {
      "cell_type": "markdown",
      "metadata": {
        "id": "view-in-github",
        "colab_type": "text"
      },
      "source": [
        "<a href=\"https://colab.research.google.com/github/Thinkful-Ed/data-science-lectures/blob/master/Start_getting_SQL_data_into_Python.ipynb\" target=\"_parent\"><img src=\"https://colab.research.google.com/assets/colab-badge.svg\" alt=\"Open In Colab\"/></a>"
      ]
    },
    {
      "cell_type": "markdown",
      "metadata": {
        "id": "cgVQ3eVz-3FT"
      },
      "source": [
        "## Installing the libraries\n",
        "\n",
        "\n",
        "The Notebook that you're currently viewing in the Thinkful curriculum reader has the two required libraries already installed. But if you need to create a Notebook on Colab that requires these libraries, you'll need to install them manually. To do that, create and run a cell with the following commands:\n",
        "\n",
        "```\n",
        "!pip install sqlalchemy\n",
        "!pip install psycopg2\n",
        "!pip install psycopg2-binary\n",
        "```\n",
        "\n",
        "After these libraries install, you'll be able to import them and use them in your Python code."
      ]
    },
    {
      "cell_type": "code",
      "execution_count": 163,
      "metadata": {
        "id": "zv1W2lh7-jCq"
      },
      "outputs": [],
      "source": [
        "# Import the SQLAlchemy engine\n",
        "import pandas as pd\n",
        "from sqlalchemy import create_engine, text"
      ]
    },
    {
      "cell_type": "markdown",
      "metadata": {
        "id": "WVVz3xZgELo7"
      },
      "source": [
        "The import statement shown above makes the `create_engine()` function available in your program. You can use that function to create a connection to the database. The database will reside on a database server and have specific authentication and permissions set. Recall what you learned earlier in this program about connecting to PostgreSQL servers with a username. Your Python code also needs some information in order to connect. Specifically, you need the following:\n",
        "\n",
        "* **The username**\n",
        "* **A password**\n",
        "* **The hostname:** The domain name of a server or an IP address\n",
        "* **A port number:** By default, the port number of PostgreSQL database servers is 5432. But in some cases, the server administrator may decide to use a different port. In such cases, you need to specify the port number.\n",
        "* **A database name:** Each server may host multiple databases. When you connect, you must state which database you wish to connect to.\n",
        "\n",
        "You can declare some variables to store these values, as demonstrated below. Then use the `create_engine()` function to connect to the database."
      ]
    },
    {
      "cell_type": "code",
      "execution_count": 164,
      "metadata": {
        "id": "KsLP0UbOFooC"
      },
      "outputs": [],
      "source": [
        "# Database credentials\n",
        "postgres_user = 'dsbc_student'\n",
        "postgres_pw = '7*.8G9QH21'\n",
        "postgres_host = '142.93.121.174'\n",
        "postgres_port = '5432'\n",
        "postgres_db = 'medicalcosts'\n",
        "\n",
        "# Use the credentials to start a connection\n",
        "engine = create_engine('postgresql://{}:{}@{}:{}/{}'.format(\n",
        "    postgres_user, postgres_pw, postgres_host, postgres_port, postgres_db))"
      ]
    },
    {
      "cell_type": "markdown",
      "metadata": {
        "id": "4_-k_LsGF6Es"
      },
      "source": [
        "## Insurance charges dataset\n",
        "\n",
        "You will explore database connections and simple queries on a medical cost dataset that's originally from Kaggle. You'll be working with a SQL-based version of this dataset hosted on a Postgres server that's accessible via the credentials given above.\n",
        "\n",
        "The data is about the costs charged by insurance companies to individuals. These are costs that the insured individuals were required to pay after the insurance company made payments to medical providers. The dataset includes seven variables, as described below:\n",
        "\n",
        "* `age`: The age of the individual. It's a numeric variable.\n",
        "* `sex`: The biological sex of the insured. It is a categorical variable with two values: `male` and `female`.\n",
        "* `bmi`: Body mass index. This index indicates whether an individual's weight is relatively high or low, based on height. This index defines an ideal range between `18.5` and `24.9`. The variable is continuous.\n",
        "* `children`: How many dependent children the insured person has. Dependents are covered by the insurance plan. This is a numeric variable.\n",
        "* `smoker`: This categorical variable (`yes` or `no`) indicates whether or not the person smokes.\n",
        "* `region`: The person's residential area in the US. It's a categorical variable with four values: `northeast`, `southeast`, `southwest`, and `northwest`).\n",
        "* `charges`: The medical costs (in US dollars) billed by the insurance company. It's a continuous variable.\n",
        "\n",
        "This database has a single table, *medicalcosts*, with these seven columns. Below, quickly check to see if you can query the table and get the data from the table."
      ]
    },
    {
      "cell_type": "code",
      "execution_count": 165,
      "metadata": {
        "colab": {
          "base_uri": "https://localhost:8080/"
        },
        "id": "LDFCBB72_3rX",
        "outputId": "a7cc112a-3c60-484a-ea7b-3225845b9523"
      },
      "outputs": [
        {
          "output_type": "stream",
          "name": "stdout",
          "text": [
            "(19, 'female', 27.9, 0, 'yes', 'southwest', 16884.9)\n",
            "(18, 'male', 33.77, 1, 'no', 'southeast', 1725.55)\n",
            "(28, 'male', 33.0, 3, 'no', 'southeast', 4449.46)\n",
            "(33, 'male', 22.705, 0, 'no', 'northwest', 21984.5)\n",
            "(32, 'male', 28.88, 0, 'no', 'northwest', 3866.86)\n",
            "(31, 'female', 25.74, 0, 'no', 'southeast', 3756.62)\n",
            "(46, 'female', 33.44, 1, 'no', 'southeast', 8240.59)\n",
            "(37, 'female', 27.74, 3, 'no', 'northwest', 7281.51)\n",
            "(37, 'male', 29.83, 2, 'no', 'northeast', 6406.41)\n",
            "(60, 'female', 25.84, 0, 'no', 'northwest', 28923.1)\n"
          ]
        }
      ],
      "source": [
        "with engine.connect() as connection:\n",
        "  insurance = connection.execute(text('SELECT * FROM medicalcosts LIMIT 10'))\n",
        "\n",
        "# # Process the results\n",
        "for row in insurance:\n",
        "  print(row)\n"
      ]
    },
    {
      "cell_type": "markdown",
      "metadata": {
        "id": "jPC7D41xJV_F"
      },
      "source": [
        "## The `ResultProxy` object\n",
        "\n",
        "In the above code, the `execute()` method of the connection was used to execute some raw SQL on the database. As mentioned above, SQLAlchemy has many features beyond this, but executing these SQL statements is all that you need for now. The result of executing a query with the `execute()` method is a `ResultProxy` object. `ResultProxy` provides several methods and properties that you can use to process the data returned from the query.\n",
        "\n",
        "In the example above, you simply iterated over all the rows of data that were returned. Next, examine some of the features:"
      ]
    },
    {
      "cell_type": "code",
      "execution_count": 166,
      "metadata": {
        "colab": {
          "base_uri": "https://localhost:8080/"
        },
        "id": "1HdIVjtjLYc0",
        "outputId": "b12fa4df-1767-4511-e1f5-58ecb9f23f1c"
      },
      "outputs": [
        {
          "output_type": "execute_result",
          "data": {
            "text/plain": [
              "RMKeyView(['age', 'sex', 'bmi', 'children', 'smoker', 'region', 'charges'])"
            ]
          },
          "metadata": {},
          "execution_count": 166
        }
      ],
      "source": [
        "# Get a list of the keys (column names) \n",
        "insurance.keys()"
      ]
    },
    {
      "cell_type": "markdown",
      "metadata": {
        "id": "6smvCWdNM0BH"
      },
      "source": [
        "The `ResultProxy` object exposes the rows as an *iterator*. That means that you have a single pass at the rows, but accessing them again isn't possible. If you try running the `for` loop again, you will notice that you get no output. Take a look:"
      ]
    },
    {
      "cell_type": "code",
      "execution_count": 167,
      "metadata": {
        "id": "yF5HZrFoLou6"
      },
      "outputs": [],
      "source": [
        "for row in insurance:\n",
        "  print(row)"
      ]
    },
    {
      "cell_type": "markdown",
      "metadata": {
        "id": "zAtPgvRfkZWi"
      },
      "source": [
        "In many instances, this isn't a problem; you may only need to iterate the rows once to process them. However, if you need to perform several iterations of the results, then it would be better to take the rows from the `ResultProxy` and construct a *list* of rows, as shown here:"
      ]
    },
    {
      "cell_type": "code",
      "execution_count": 168,
      "metadata": {
        "colab": {
          "base_uri": "https://localhost:8080/"
        },
        "id": "qAWF6jcok2YY",
        "outputId": "dbcb73dd-4d2b-4da2-b663-63c0ff0206e4"
      },
      "outputs": [
        {
          "output_type": "stream",
          "name": "stdout",
          "text": [
            "(19, 'female', 27.9, 0, 'yes', 'southwest', 16884.9)\n",
            "(18, 'male', 33.77, 1, 'no', 'southeast', 1725.55)\n",
            "(28, 'male', 33.0, 3, 'no', 'southeast', 4449.46)\n",
            "(33, 'male', 22.705, 0, 'no', 'northwest', 21984.5)\n",
            "(32, 'male', 28.88, 0, 'no', 'northwest', 3866.86)\n",
            "(31, 'female', 25.74, 0, 'no', 'southeast', 3756.62)\n",
            "(46, 'female', 33.44, 1, 'no', 'southeast', 8240.59)\n",
            "(37, 'female', 27.74, 3, 'no', 'northwest', 7281.51)\n",
            "(37, 'male', 29.83, 2, 'no', 'northeast', 6406.41)\n",
            "(60, 'female', 25.84, 0, 'no', 'northwest', 28923.1)\n"
          ]
        }
      ],
      "source": [
        "# Execute the SQL statement again\n",
        "with engine.connect() as connection:\n",
        "  insurance = connection.execute(text('SELECT * FROM medicalcosts LIMIT 10'))\n",
        "\n",
        "# Use `fetchall()` to get a list of rows from the results\n",
        "rows = insurance.fetchall()\n",
        "\n",
        "# Now, process the list of rows\n",
        "for row in rows:\n",
        "  print(row)\n"
      ]
    },
    {
      "cell_type": "markdown",
      "metadata": {
        "id": "kKdel_osl9Zt"
      },
      "source": [
        "Now, if you repeat the `for` loop or try to access the rows in the list again, they will still be available. Additionally, you can use the features of the Python list data structure to access individual rows or groups of rows. For example, to just iterate the first five rows, you can slice the list, like this:"
      ]
    },
    {
      "cell_type": "code",
      "execution_count": 169,
      "metadata": {
        "colab": {
          "base_uri": "https://localhost:8080/"
        },
        "id": "FIDW36vKlK_a",
        "outputId": "3c2820cf-2145-4159-aa2f-bb9cc64879c4"
      },
      "outputs": [
        {
          "output_type": "stream",
          "name": "stdout",
          "text": [
            "(19, 'female', 27.9, 0, 'yes', 'southwest', 16884.9)\n",
            "(18, 'male', 33.77, 1, 'no', 'southeast', 1725.55)\n",
            "(28, 'male', 33.0, 3, 'no', 'southeast', 4449.46)\n",
            "(33, 'male', 22.705, 0, 'no', 'northwest', 21984.5)\n",
            "(32, 'male', 28.88, 0, 'no', 'northwest', 3866.86)\n"
          ]
        }
      ],
      "source": [
        "for row in rows[:5]:\n",
        "  print(row)"
      ]
    },
    {
      "cell_type": "markdown",
      "metadata": {
        "id": "YZ4tAMF4nUgp"
      },
      "source": [
        "Or you can get the last five rows, like this:"
      ]
    },
    {
      "cell_type": "code",
      "execution_count": 170,
      "metadata": {
        "colab": {
          "base_uri": "https://localhost:8080/"
        },
        "id": "q3wf4hyFnYam",
        "outputId": "a7a43efe-d15a-497c-b2de-0e18de7a7598"
      },
      "outputs": [
        {
          "output_type": "stream",
          "name": "stdout",
          "text": [
            "(31, 'female', 25.74, 0, 'no', 'southeast', 3756.62)\n",
            "(46, 'female', 33.44, 1, 'no', 'southeast', 8240.59)\n",
            "(37, 'female', 27.74, 3, 'no', 'northwest', 7281.51)\n",
            "(37, 'male', 29.83, 2, 'no', 'northeast', 6406.41)\n",
            "(60, 'female', 25.84, 0, 'no', 'northwest', 28923.1)\n"
          ]
        }
      ],
      "source": [
        "for row in rows[-5:]:\n",
        "  print(row)"
      ]
    },
    {
      "cell_type": "markdown",
      "metadata": {
        "id": "sVerJhJrnphH"
      },
      "source": [
        "## The `RowProxy` object\n",
        "\n",
        "You will look at a few more examples of manipulating the list shortly. But first, take a closer look at the row itself. When you print the row, you get a tuple of values like this:\n",
        "\n",
        "```\n",
        "(18, 'female', 31.92, 0, 'no', 'northeast', 2205.98)\n",
        "```\n",
        "\n",
        "But what exactly is that? SQLAlchemy constructs the `ResultProxy` out of a set of `RowProxy` objects. `RowProxy` provides several methods for using the data in a row. You can always check the type of an object by using the `type()` function."
      ]
    },
    {
      "cell_type": "code",
      "execution_count": 171,
      "metadata": {
        "colab": {
          "base_uri": "https://localhost:8080/"
        },
        "id": "y98nDu2GoZrz",
        "outputId": "1efca20b-7bdb-4258-a91f-ecae90f414eb"
      },
      "outputs": [
        {
          "output_type": "execute_result",
          "data": {
            "text/plain": [
              "sqlalchemy.engine.row.Row"
            ]
          },
          "metadata": {},
          "execution_count": 171
        }
      ],
      "source": [
        "# Get the first row from the list\n",
        "first_row = rows[0]\n",
        "\n",
        "# Get the data type of this row\n",
        "type(first_row)"
      ]
    },
    {
      "cell_type": "markdown",
      "metadata": {
        "id": "Zh1A7nU8opoV"
      },
      "source": [
        "#### The `in` operator\n",
        "\n",
        "The `in` operator returns `True` if a given key exists in the row, and `False` otherwise. This can be used to verify that a particular data value exists before you process the row."
      ]
    },
    {
      "cell_type": "code",
      "execution_count": 172,
      "metadata": {
        "colab": {
          "base_uri": "https://localhost:8080/"
        },
        "id": "VUNIyB9apCdb",
        "outputId": "67ea2bcb-14bc-4e2e-d73f-b9874efff8fc"
      },
      "outputs": [
        {
          "output_type": "stream",
          "name": "stdout",
          "text": [
            "The first row has a key named `age`: False\n",
            "The first row has a key named `height`: False\n"
          ]
        }
      ],
      "source": [
        "print('The first row has a key named `age`: {}'.format('age' in first_row))\n",
        "print('The first row has a key named `height`: {}'.format('height' in first_row))"
      ]
    },
    {
      "cell_type": "markdown",
      "metadata": {
        "id": "ejfOILh2qXZv"
      },
      "source": [
        "#### The `tuple()` method\n",
        "\n",
        "The `tuple()` method returns a list of tuples containing the key-value pairs from the row."
      ]
    },
    {
      "cell_type": "code",
      "execution_count": 173,
      "metadata": {
        "colab": {
          "base_uri": "https://localhost:8080/"
        },
        "id": "RnAdb0R9qjfa",
        "outputId": "49a7586c-9c75-43a8-9b91-004897a173fc"
      },
      "outputs": [
        {
          "output_type": "execute_result",
          "data": {
            "text/plain": [
              "(19, 'female', 27.9, 0, 'yes', 'southwest', 16884.9)"
            ]
          },
          "metadata": {},
          "execution_count": 173
        }
      ],
      "source": [
        "first_row.tuple()"
      ]
    },
    {
      "cell_type": "markdown",
      "metadata": {
        "id": "bLM3RSfMqomL"
      },
      "source": [
        "This has implications for how the data is accessed as you process a row. There are two different ways to get the value of a specific column in a row. The first column is at position 0, the second is at position 1, and so on, and you can use the numeric position of the column in the result. However, depending on the position can be unstable, because a database table doesn't guarantee the order of columns. So if the SQL statement changes a little, then all positions could be wrong. So it's safer to use the actual column name instead. Here are examples of both methods:\n",
        "\n"
      ]
    },
    {
      "cell_type": "code",
      "execution_count": 174,
      "metadata": {
        "colab": {
          "base_uri": "https://localhost:8080/"
        },
        "id": "IRXtM6plVuZH",
        "outputId": "5ea437e0-9ae8-4d7f-cf21-b0bab03088f1"
      },
      "outputs": [
        {
          "output_type": "stream",
          "name": "stdout",
          "text": [
            "The first row has a bmi of 27.9 and charges of 16884.9\n"
          ]
        }
      ],
      "source": [
        "# Access it by position\n",
        "bmi = first_row[2]\n",
        "charges = first_row[6]\n",
        "\n",
        "print('The first row has a bmi of {} and charges of {}'.format(bmi, charges))"
      ]
    },
    {
      "cell_type": "markdown",
      "metadata": {
        "id": "lkbbSqNsXC9O"
      },
      "source": [
        "## Processing the data\n",
        "\n",
        "At this point, you know how to execute a query against a database and access the returned data. Now, walk through a quick example of processing the data using the same medical cost database as above. You can calculate basic statistics like mean, median, range, and variance in Python. Note that there are many libraries available that can perform these calculations for you. But it is instructive to see how you can do it yourself first, then look at the external libraries later.\n",
        "\n",
        "Suppose your manager wanted a report with the mean, median, and standard deviation of `charges` for all females between the ages of 18 and 30. Start by working out the SQL statement.\n",
        "\n",
        "### The `WHERE` clause\n",
        "\n",
        "You need to restrict the rows that you process to only those where the `sex` field contains the value `female`, and the `age` field contains a value between `18` and `30`. That means that you have three conditions to add to the SQL statement. Also, the results don't actually need to include all seven fields—just `charges`. The SQL statement might look like this:\n",
        "\n",
        "```sql\n",
        "SELECT\n",
        "  charges\n",
        "FROM\n",
        "  medicalcosts\n",
        "WHERE\n",
        "  sex = 'female'\n",
        "  AND age BETWEEN 18 and 30;\n",
        "```\n",
        "\n",
        "Before you actually perform the calculations, take a look at the effect of this `WHERE` clause.\n"
      ]
    },
    {
      "cell_type": "code",
      "execution_count": 175,
      "metadata": {
        "colab": {
          "base_uri": "https://localhost:8080/"
        },
        "id": "W8-RWGKj93mr",
        "outputId": "794ebf3f-252a-4ce0-8c41-b3d3be87a3ac"
      },
      "outputs": [
        {
          "output_type": "stream",
          "name": "stdout",
          "text": [
            "1338\n"
          ]
        }
      ],
      "source": [
        "# Find the total number of rows in the table\n",
        "with engine.connect() as connection:\n",
        "  row_count = connection.execute(text('SELECT COUNT(*) FROM medicalcosts'))\n",
        "\n",
        "# Fetch the first row from the results\n",
        "ans = row_count.first().count\n",
        "print(ans)\n"
      ]
    },
    {
      "cell_type": "markdown",
      "metadata": {
        "id": "yGJMJxVu_EO5"
      },
      "source": [
        "There are 1,338 rows in total. That includes both females and males, as well as females that aren't between the ages of 18 and 30. Now, try adding the filter conditions. Because the SQL statement is getting longer, you can use multi-line strings in Python to write a formatted SQL statement for better readability."
      ]
    },
    {
      "cell_type": "code",
      "execution_count": 176,
      "metadata": {
        "colab": {
          "base_uri": "https://localhost:8080/"
        },
        "id": "T4i9Iysc_tQd",
        "outputId": "5d845d76-d73c-4c1e-9113-672313a26105"
      },
      "outputs": [
        {
          "output_type": "stream",
          "name": "stdout",
          "text": [
            "662\n"
          ]
        }
      ],
      "source": [
        "sql = '''\n",
        "SELECT \n",
        "  COUNT(*) \n",
        "FROM \n",
        "  medicalcosts\n",
        "WHERE \n",
        "  sex = 'female' '''\n",
        "\n",
        "with engine.connect() as connection:\n",
        "  row_count = connection.execute(text(sql))\n",
        "# engine.dispose()\n",
        "ans = row_count.first().count\n",
        "print(ans)"
      ]
    },
    {
      "cell_type": "markdown",
      "metadata": {
        "id": "1_es1OB7Ar2K"
      },
      "source": [
        "That seems reasonable; approximately half of the data refers to females. Now, add the next condition:"
      ]
    },
    {
      "cell_type": "code",
      "execution_count": 177,
      "metadata": {
        "colab": {
          "base_uri": "https://localhost:8080/"
        },
        "id": "NbXCr0rvA3Tj",
        "outputId": "b4eb2019-dcfb-487f-aeb6-7485d7f23a52"
      },
      "outputs": [
        {
          "output_type": "stream",
          "name": "stdout",
          "text": [
            "214\n"
          ]
        }
      ],
      "source": [
        "sql = '''\n",
        "SELECT \n",
        "  COUNT(*) \n",
        "FROM \n",
        "  medicalcosts\n",
        "WHERE \n",
        "  sex = 'female'\n",
        "  AND age BETWEEN 18 AND 30'''\n",
        "\n",
        "with engine.connect() as connection:\n",
        "  row_count = connection.execute(text(sql))\n",
        "  \n",
        "ans = row_count.first().count\n",
        "print(ans)"
      ]
    },
    {
      "cell_type": "markdown",
      "metadata": {
        "id": "KD8o3ss5FE2D"
      },
      "source": [
        "Checking like this isn't always necessary, but it helps you to confirm that the SQL statement is correct. You can also use your favorite SQL client to work out the correct SQL before using it in the Python code. Now, get the 214 values into a list and perform the calculations."
      ]
    },
    {
      "cell_type": "code",
      "execution_count": 178,
      "metadata": {
        "colab": {
          "base_uri": "https://localhost:8080/"
        },
        "id": "KGFlj6wjKa36",
        "outputId": "06410f11-e019-4920-c507-761a3d5de393"
      },
      "outputs": [
        {
          "output_type": "stream",
          "name": "stdout",
          "text": [
            "[16884.9, 4149.74, 2198.19, 4687.8, 3046.06, 3393.36, 3556.92, 2211.13, 3579.83, 4133.64, 14711.7, 1743.21, 16577.8, 3947.41, 2755.02, 2026.97, 3766.88, 21344.8, 2331.52, 2404.73, 19107.8, 2257.48, 3385.4, 17081.1, 2457.21, 2155.68, 2166.73, 5138.26, 36149.5, 4830.63, 2719.28, 2855.44, 1631.82, 3981.98, 5325.65, 4922.92, 2130.68, 37133.9, 4337.74, 3392.98, 25081.8, 1727.79, 1615.77, 38511.6, 17085.3, 2150.47, 3172.02, 2156.75, 4349.46, 20177.7, 4151.03, 1737.38, 34838.9, 24671.7, 3561.89, 18955.2, 3554.2, 14133.0, 1607.51, 13844.5, 2597.78, 3180.51, 18034.0, 15006.6, 3176.82, 4618.08, 2138.07, 1631.67, 14455.6, 2134.9, 7323.73, 3167.46, 18804.8, 4906.41, 19522.0, 23288.9, 2201.1, 2203.47, 1744.46, 1622.19, 1748.77, 2196.47, 3044.21, 11482.6, 24059.7, 3056.39, 3213.62, 17878.9, 2801.26, 2128.43, 2219.45, 4753.64, 3206.49, 15359.1, 1633.04, 17469.0, 3558.62, 2207.7, 1880.07, 34439.9, 3736.46, 3366.67, 2709.11, 4466.62, 3410.32, 3943.6, 2585.27, 3578.0, 3201.25, 3500.61, 2020.55, 2457.5, 40932.4, 16657.7, 2217.6, 4234.93, 3925.76, 17748.5, 2731.91, 4719.52, 38792.7, 2136.88, 1877.93, 2842.76, 1621.88, 4719.74, 36021.0, 2974.13, 1875.34, 18218.2, 4391.65, 3392.37, 2690.11, 2585.85, 1634.57, 2117.34, 4564.19, 2473.33, 2913.57, 2217.47, 4527.18, 2730.11, 3353.28, 2527.82, 1759.34, 16796.4, 14571.9, 3378.91, 16420.5, 2709.24, 3987.93, 26019.0, 35595.6, 2020.18, 4137.52, 3161.45, 3594.17, 3353.47, 2480.98, 5708.87, 33907.5, 4561.19, 3227.12, 5312.17, 5693.43, 34166.3, 18903.5, 40904.2, 1728.9, 3176.29, 36898.7, 2261.57, 2203.74, 14426.1, 2459.72, 2200.83, 4529.48, 2154.36, 2899.49, 2850.68, 2632.99, 18328.2, 13126.7, 18838.7, 33307.6, 18223.5, 3956.07, 4718.2, 26125.7, 20167.3, 3238.44, 4296.27, 3171.61, 1633.96, 1880.49, 3021.81, 2741.95, 4189.11, 14283.5, 3732.62, 4340.44, 2710.83, 3208.79, 2464.62, 16115.3, 33900.7, 36397.6, 18765.9, 1731.68, 22395.7, 10795.9, 2205.98, 1629.83, 2007.94]\n"
          ]
        }
      ],
      "source": [
        "sql = '''\n",
        "SELECT \n",
        "  charges \n",
        "FROM \n",
        "  medicalcosts\n",
        "WHERE \n",
        "  sex = 'female'\n",
        "  AND age BETWEEN 18 AND 30'''\n",
        "\n",
        "with engine.connect() as connection:\n",
        "  charges = connection.execute(text(sql))\n",
        "\n",
        "rows = charges.fetchall()\n",
        "\n",
        "# At this point, the rows list contains `RowProxy` objects,\n",
        "# but you really only need the numeric value. So extract\n",
        "# the numeric value into a list of raw numbers:\n",
        "\n",
        "charges = [x[0] for x in rows]\n",
        "print(charges)"
      ]
    },
    {
      "cell_type": "markdown",
      "metadata": {
        "id": "bv2vq4-XL6Us"
      },
      "source": [
        "### Mean\n",
        "\n",
        "Calculating the mean is fairly straightforward. First, you sum the values in the array. Then, you divide the sum by the number of items in the array. Because finding the mean of an array of numbers is something that you may do many times for many different arrays, you could write a function that performs that task for you, then invoke the function whenever you need to find the mean of an array. \n",
        "\n",
        "There are many ways that this code could be written. If you do a search online, you will probably find many different answers, including the use of more complex tools like lambda functions and functools. Those are all perfectly valid, and may even perform better than this example. But here, you are aiming for simple and readable."
      ]
    },
    {
      "cell_type": "code",
      "execution_count": 179,
      "metadata": {
        "colab": {
          "base_uri": "https://localhost:8080/"
        },
        "id": "MwDGa-gPM218",
        "outputId": "ee362626-9bc5-46fd-943e-b7446df4c8b1"
      },
      "outputs": [
        {
          "output_type": "stream",
          "name": "stdout",
          "text": [
            "The mean of the charges is 8624.224345794393\n"
          ]
        }
      ],
      "source": [
        "# A simple implementation simply iterating the array\n",
        "def mean(numbers):\n",
        "  total_sum = 0;  # Initialize the sum to zero\n",
        "  for n in numbers:\n",
        "    total_sum += n # Add up the numbers in the array\n",
        "  count = len(numbers)   # Find the length of the array\n",
        "  avg = total_sum / count  # Calculate the mean\n",
        "  return avg  # Return the result\n",
        "\n",
        "print('The mean of the charges is {}'.format(mean(charges)))"
      ]
    },
    {
      "cell_type": "markdown",
      "metadata": {
        "id": "W0_yKPFDhJJx"
      },
      "source": [
        "You can also leverage SQL queries to do the calculation for you. To do this, use the `AVG()` function for `charges`, as shown here:"
      ]
    },
    {
      "cell_type": "code",
      "execution_count": 180,
      "metadata": {
        "colab": {
          "base_uri": "https://localhost:8080/"
        },
        "id": "QN-B-1n1hJJx",
        "outputId": "59461112-d1bf-4e85-fbed-1cc22779ec75"
      },
      "outputs": [
        {
          "output_type": "stream",
          "name": "stdout",
          "text": [
            "The mean of the charges is 8624.2230966158\n"
          ]
        }
      ],
      "source": [
        "sql = '''\n",
        "SELECT \n",
        "  AVG(charges)\n",
        "FROM \n",
        "  medicalcosts\n",
        "WHERE \n",
        "  sex = 'female'\n",
        "  AND age BETWEEN 18 AND 30'''\n",
        "\n",
        "\n",
        "with engine.connect() as connection:\n",
        "  charges_avg = connection.execute(text(sql))\n",
        "\n",
        "rows_avg = charges_avg.fetchall()[0][0] \n",
        "\n",
        "print('The mean of the charges is {}'.format(rows_avg))\n"
      ]
    },
    {
      "cell_type": "markdown",
      "metadata": {
        "id": "KynHnBRGQDoF"
      },
      "source": [
        "### Median\n",
        "\n",
        "The median is the number occurring in the middle of the array when the array is sorted. So you can find the median by first sorting the array, then finding the number in the exact middle. If there is an odd number of values in the array, then finding the middle number is easy. But if there is an even number, there is no obvious middle. In that case, you find the two numbers closest to the middle and calculate their average.\n",
        "\n",
        "Python has built in the ability to sort a list. The simplest approach is to use the `sort()` method of the list itself. It sorts the list in place, which means that the list itself is changed.\n",
        "\n",
        "**Note:** Unfortunately, identifying the median in SQL is very challenging, so you are going to stick with Python code here."
      ]
    },
    {
      "cell_type": "code",
      "execution_count": 181,
      "metadata": {
        "colab": {
          "base_uri": "https://localhost:8080/"
        },
        "id": "MGUFZ0D8VZUL",
        "outputId": "1de5d124-99af-4f43-b071-2ba46ed505b3"
      },
      "outputs": [
        {
          "output_type": "stream",
          "name": "stdout",
          "text": [
            "[1, 2, 3, 4, 5]\n"
          ]
        }
      ],
      "source": [
        "alist = [5, 2, 4, 1, 3]\n",
        "alist.sort()\n",
        "print(alist)"
      ]
    },
    {
      "cell_type": "markdown",
      "metadata": {
        "id": "guvQw8uJVpWG"
      },
      "source": [
        "If making changes to the list itself isn't desirable, then you can instead use the `sorted()` function, which creates a new sorted list. This second approach has the advantage of working on other data structures than lists, too. "
      ]
    },
    {
      "cell_type": "code",
      "execution_count": 182,
      "metadata": {
        "colab": {
          "base_uri": "https://localhost:8080/"
        },
        "id": "bLXyS21vWAX0",
        "outputId": "da45ed07-bcef-4cb9-8d19-37dcd2dc3213"
      },
      "outputs": [
        {
          "output_type": "stream",
          "name": "stdout",
          "text": [
            "[1, 2, 3, 4, 5]\n",
            "[5, 2, 4, 1, 3]\n"
          ]
        }
      ],
      "source": [
        "alist = [5, 2, 4, 1, 3]\n",
        "sorted_list = sorted(alist)\n",
        "print(sorted_list)\n",
        "print(alist)"
      ]
    },
    {
      "cell_type": "markdown",
      "metadata": {
        "id": "0NP9S0FyWLqt"
      },
      "source": [
        "Notice how even though you end up with a sorted list named `sorted_list`, you still have the original list untouched. For the problem at hand, it really doesn't matter which one of these approaches you take."
      ]
    },
    {
      "cell_type": "code",
      "execution_count": 183,
      "metadata": {
        "colab": {
          "base_uri": "https://localhost:8080/"
        },
        "id": "_a7cqAs-RASv",
        "outputId": "8d37c77f-624f-41b6-fe49-45f1cc249333"
      },
      "outputs": [
        {
          "output_type": "stream",
          "name": "stdout",
          "text": [
            "The median of the charges is 3527.4049999999997\n"
          ]
        }
      ],
      "source": [
        "import math\n",
        "\n",
        "def median(numbers):\n",
        "  numbers.sort()  # Sort the list of numbers\n",
        "  count = len(numbers) # Get the length of the array\n",
        "  isEven = count % 2 == 0 # Check if this list is of even length\n",
        "  \n",
        "  if (isEven):\n",
        "    # Find the two numbers in the middle of the array\n",
        "    mid = math.floor( count / 2 )\n",
        "    a = numbers[mid - 1]\n",
        "    b = numbers[mid]\n",
        "    # Find the average of these two numbers\n",
        "    ans = (a + b) / 2\n",
        "  else:\n",
        "    ans = numbers[math.floor( count / 2 )]\n",
        " \n",
        "  return ans\n",
        "\n",
        "print('The median of the charges is {}'.format(median(charges)))"
      ]
    },
    {
      "cell_type": "markdown",
      "metadata": {
        "id": "LgO3ve7GcP0E"
      },
      "source": [
        "### Standard deviation\n",
        "\n",
        "Recall that the standard deviation is calculated with the following formula:\n",
        "\n",
        "$$ \\sigma  = \\sqrt\\frac{\\sum(X - \\bar X)^2}{N - 1} $$\n",
        "\n",
        "Where \n",
        " * $X$: Each individual value\n",
        " * $\\bar X$: The mean of all values\n",
        " * $\\sum$: The sum of whatever comes next\n",
        " * $N$: The total number of values\n",
        " \n",
        "You already have a function to calculate the mean, so go ahead and calculate the standard deviation:"
      ]
    },
    {
      "cell_type": "code",
      "execution_count": 184,
      "metadata": {
        "colab": {
          "base_uri": "https://localhost:8080/"
        },
        "id": "J-CzayqtefWB",
        "outputId": "5a19fb12-351b-4ee2-a1ae-8b21b568a438"
      },
      "outputs": [
        {
          "output_type": "stream",
          "name": "stdout",
          "text": [
            "The standard deviation of the charges is 10114.063803685161\n"
          ]
        }
      ],
      "source": [
        "def standard_deviation(numbers):\n",
        "  X_bar = mean(numbers)\n",
        "  N = len(numbers)\n",
        "  total_sum = 0\n",
        "  for X in numbers:\n",
        "    diff = X - X_bar\n",
        "    squared = math.pow(diff, 2)\n",
        "    total_sum += squared\n",
        "  sigma = math.sqrt(total_sum / (N - 1))  \n",
        "  return sigma\n",
        "\n",
        "print('The standard deviation of the charges is {}'.format(standard_deviation(charges)))"
      ]
    },
    {
      "cell_type": "markdown",
      "metadata": {
        "id": "olFoEzrRhJJz"
      },
      "source": [
        "You can also leverage SQL queries to do the calculation for you. To do this, use the `STDDEV()` function around `charges`."
      ]
    },
    {
      "cell_type": "code",
      "execution_count": 185,
      "metadata": {
        "colab": {
          "base_uri": "https://localhost:8080/"
        },
        "id": "EZLQI0BMhJJz",
        "outputId": "374480c4-2b81-409d-93a9-f338bea36ef9"
      },
      "outputs": [
        {
          "output_type": "stream",
          "name": "stdout",
          "text": [
            "The standard deviation of the charges is 10114.0612425204\n"
          ]
        }
      ],
      "source": [
        "sql = '''\n",
        "SELECT \n",
        "  STDDEV(charges)\n",
        "FROM \n",
        "  medicalcosts\n",
        "WHERE \n",
        "  sex = 'female'\n",
        "  AND age BETWEEN 18 AND 30'''\n",
        "\n",
        "\n",
        "with engine.connect() as connection:\n",
        "  charges = connection.execute(text(sql))\n",
        "\n",
        "rows = charges.fetchall()[0][0] \n",
        "\n",
        "print('The standard deviation of the charges is {}'.format(rows))\n"
      ]
    },
    {
      "cell_type": "markdown",
      "metadata": {
        "id": "W9-P4OSuhwI3"
      },
      "source": [
        "## Another example\n",
        "\n",
        "Your company would like to honor the hardest-working actor in comedy show business. They have access to a film database listing most of the popular movies released, along with some information about the actors involved. This database contains quite a lot of information, but you are mainly interested in the number of movies in which each actor appeared. \n",
        "\n",
        "The objective is to query this database for the list of actors and the number of comedy movies in which they appear. Then look for the actor with the highest number of appearances. You can also use the functions written above to get the mean, median, and standard deviation of these counts.\n",
        "\n",
        "First, connect to the database."
      ]
    },
    {
      "cell_type": "code",
      "execution_count": 186,
      "metadata": {
        "id": "dDUA5aIwd0Qp"
      },
      "outputs": [],
      "source": [
        "# Database credentials\n",
        "postgres_user = 'dsbc_student'\n",
        "postgres_pw = '7*.8G9QH21'\n",
        "postgres_host = '142.93.121.174'\n",
        "postgres_port = '5432'\n",
        "postgres_db = 'dvdrentals'\n",
        "\n",
        "# Use the credentials to start a connection\n",
        "engine = create_engine('postgresql://{}:{}@{}:{}/{}'.format(\n",
        "    postgres_user, postgres_pw, postgres_host, postgres_port, postgres_db))\n"
      ]
    },
    {
      "cell_type": "markdown",
      "metadata": {
        "id": "XHFM-dsijuff"
      },
      "source": [
        "Next, construct the SQL statement. You need the actor's name from the *actor* table, the category `Comedy` from the *category* table, and the film data from the *film* table. You need to join the film and actor using the *film_actor* table because there is a many-to-many relationship between films and actors. And similarly, you need to join the film to category using the *film_category* table.\n",
        "\n",
        "Additionally, you don't need the list of movies and actors—you need the count. SQL has a built-in `COUNT()` function. To use it, first group the results by actor. Then perform a count within each group.\n",
        "\n",
        "Finally, you can order the results by count in descending order so that you get the actor with most appearances first."
      ]
    },
    {
      "cell_type": "code",
      "execution_count": 187,
      "metadata": {
        "colab": {
          "base_uri": "https://localhost:8080/"
        },
        "id": "2Ht4JKA6eDKu",
        "outputId": "50cbed78-e8a7-410e-d00a-03da1e9b73b1"
      },
      "outputs": [
        {
          "output_type": "stream",
          "name": "stdout",
          "text": [
            "(6, 196, 'BELA', 'WALKEN')\n",
            "(5, 143, 'RIVER', 'DEAN')\n",
            "(5, 149, 'RUSSELL', 'TEMPLE')\n",
            "(4, 129, 'DARYL', 'CRAWFORD')\n",
            "(4, 76, 'ANGELINA', 'ASTAIRE')\n",
            "(4, 58, 'CHRISTIAN', 'AKROYD')\n",
            "(4, 24, 'CAMERON', 'STREEP')\n",
            "(4, 83, 'BEN', 'WILLIS')\n",
            "(4, 37, 'VAL', 'BOLGER')\n",
            "(4, 198, 'MARY', 'KEITEL')\n",
            "(4, 101, 'SUSAN', 'DAVIS')\n",
            "(4, 82, 'WOODY', 'JOLIE')\n",
            "(4, 127, 'KEVIN', 'GARLAND')\n",
            "(3, 159, 'LAURA', 'BRODY')\n",
            "(3, 71, 'ADAM', 'GRANT')\n",
            "(3, 162, 'OPRAH', 'KILMER')\n",
            "(3, 84, 'JAMES', 'PITT')\n",
            "(3, 173, 'ALAN', 'DREYFUSS')\n",
            "(3, 42, 'TOM', 'MIRANDA')\n",
            "(3, 125, 'ALBERT', 'NOLTE')\n",
            "(3, 153, 'MINNIE', 'KILMER')\n",
            "(3, 147, 'FAY', 'WINSLET')\n",
            "(3, 19, 'BOB', 'FAWCETT')\n",
            "(3, 81, 'SCARLETT', 'DAMON')\n",
            "(3, 17, 'HELEN', 'VOIGHT')\n",
            "(3, 54, 'PENELOPE', 'PINKETT')\n",
            "(3, 34, 'AUDREY', 'OLIVIER')\n",
            "(3, 90, 'SEAN', 'GUINESS')\n",
            "(3, 45, 'REESE', 'KILMER')\n",
            "(3, 107, 'GINA', 'DEGENERES')\n",
            "(3, 89, 'CHARLIZE', 'DENCH')\n",
            "(3, 31, 'SISSY', 'SOBIESKI')\n",
            "(3, 158, 'VIVIEN', 'BASINGER')\n",
            "(3, 13, 'UMA', 'WOOD')\n",
            "(3, 133, 'RICHARD', 'PENN')\n",
            "(3, 128, 'CATE', 'MCQUEEN')\n",
            "(3, 99, 'JIM', 'MOSTEL')\n",
            "(3, 191, 'GREGORY', 'GOODING')\n",
            "(2, 119, 'WARREN', 'JACKMAN')\n",
            "(2, 25, 'KEVIN', 'BLOOM')\n",
            "(2, 43, 'KIRK', 'JOVOVICH')\n",
            "(2, 69, 'KENNETH', 'PALTROW')\n",
            "(2, 26, 'RIP', 'CRAWFORD')\n",
            "(2, 85, 'MINNIE', 'ZELLWEGER')\n",
            "(2, 187, 'RENEE', 'BALL')\n",
            "(2, 57, 'JUDE', 'CRUISE')\n",
            "(2, 154, 'MERYL', 'GIBSON')\n",
            "(2, 160, 'CHRIS', 'DEPP')\n",
            "(2, 172, 'GROUCHO', 'WILLIAMS')\n",
            "(2, 21, 'KIRSTEN', 'PALTROW')\n",
            "(2, 92, 'KIRSTEN', 'AKROYD')\n",
            "(2, 74, 'MILLA', 'KEITEL')\n",
            "(2, 177, 'GENE', 'MCKELLEN')\n",
            "(2, 29, 'ALEC', 'WAYNE')\n",
            "(2, 182, 'DEBBIE', 'AKROYD')\n",
            "(2, 181, 'MATTHEW', 'CARREY')\n",
            "(2, 105, 'SIDNEY', 'CROWE')\n",
            "(2, 86, 'GREG', 'CHAPLIN')\n",
            "(2, 144, 'ANGELA', 'WITHERSPOON')\n",
            "(2, 163, 'CHRISTOPHER', 'WEST')\n",
            "(2, 106, 'GROUCHO', 'DUNST')\n",
            "(2, 50, 'NATALIE', 'HOPKINS')\n",
            "(2, 102, 'WALTER', 'TORN')\n",
            "(2, 185, 'MICHAEL', 'BOLGER')\n",
            "(2, 111, 'CAMERON', 'ZELLWEGER')\n",
            "(2, 2, 'NICK', 'WAHLBERG')\n",
            "(2, 62, 'JAYNE', 'NEESON')\n",
            "(2, 199, 'JULIA', 'FAWCETT')\n",
            "(2, 146, 'ALBERT', 'JOHANSSON')\n",
            "(2, 152, 'BEN', 'HARRIS')\n",
            "(2, 41, 'JODIE', 'DEGENERES')\n",
            "(2, 157, 'GRETA', 'MALDEN')\n",
            "(2, 12, 'KARL', 'BERRY')\n",
            "(2, 164, 'HUMPHREY', 'WILLIS')\n",
            "(2, 112, 'RUSSELL', 'BACALL')\n",
            "(2, 135, 'RITA', 'REYNOLDS')\n",
            "(2, 65, 'ANGELA', 'HUDSON')\n",
            "(2, 124, 'SCARLETT', 'BENING')\n",
            "(2, 132, 'ADAM', 'HOPPER')\n",
            "(2, 44, 'NICK', 'STALLONE')\n",
            "(2, 80, 'RALPH', 'CRUZ')\n",
            "(2, 161, 'HARVEY', 'HOPE')\n",
            "(2, 188, 'ROCK', 'DUKAKIS')\n",
            "(2, 40, 'JOHNNY', 'CAGE')\n",
            "(1, 193, 'BURT', 'TEMPLE')\n",
            "(1, 180, 'JEFF', 'SILVERSTONE')\n",
            "(1, 168, 'WILL', 'WILSON')\n",
            "(1, 93, 'ELLEN', 'PRESLEY')\n",
            "(1, 98, 'CHRIS', 'BRIDGES')\n",
            "(1, 175, 'WILLIAM', 'HACKMAN')\n",
            "(1, 36, 'BURT', 'DUKAKIS')\n",
            "(1, 64, 'RAY', 'JOHANSSON')\n",
            "(1, 137, 'MORGAN', 'WILLIAMS')\n",
            "(1, 78, 'GROUCHO', 'SINATRA')\n",
            "(1, 167, 'LAURENCE', 'BULLOCK')\n",
            "(1, 66, 'MARY', 'TANDY')\n",
            "(1, 109, 'SYLVESTER', 'DERN')\n",
            "(1, 60, 'HENRY', 'BERRY')\n",
            "(1, 155, 'IAN', 'TANDY')\n",
            "(1, 178, 'LISA', 'MONROE')\n",
            "(1, 118, 'CUBA', 'ALLEN')\n",
            "(1, 130, 'GRETA', 'KEITEL')\n",
            "(1, 113, 'MORGAN', 'HOPKINS')\n",
            "(1, 116, 'DAN', 'STREEP')\n",
            "(1, 97, 'MEG', 'HAWKE')\n",
            "(1, 108, 'WARREN', 'NOLTE')\n",
            "(1, 141, 'CATE', 'HARRIS')\n",
            "(1, 117, 'RENEE', 'TRACY')\n",
            "(1, 15, 'CUBA', 'OLIVIER')\n",
            "(1, 79, 'MAE', 'HOFFMAN')\n",
            "(1, 156, 'FAY', 'WOOD')\n",
            "(1, 48, 'FRANCES', 'DAY-LEWIS')\n",
            "(1, 52, 'CARMEN', 'HUNT')\n",
            "(1, 126, 'FRANCES', 'TOMEI')\n",
            "(1, 72, 'SEAN', 'WILLIAMS')\n",
            "(1, 95, 'DARYL', 'WAHLBERG')\n",
            "(1, 194, 'MERYL', 'ALLEN')\n",
            "(1, 166, 'NICK', 'DEGENERES')\n",
            "(1, 47, 'JULIA', 'BARRYMORE')\n",
            "(1, 197, 'REESE', 'WEST')\n",
            "(1, 77, 'CARY', 'MCCONAUGHEY')\n",
            "(1, 142, 'JADA', 'RYDER')\n",
            "(1, 115, 'HARRISON', 'BALE')\n",
            "(1, 11, 'ZERO', 'CAGE')\n",
            "(1, 20, 'LUCILLE', 'TRACY')\n",
            "(1, 28, 'WOODY', 'HOFFMAN')\n",
            "(1, 192, 'JOHN', 'SUVARI')\n",
            "(1, 104, 'PENELOPE', 'CRONYN')\n",
            "(1, 5, 'JOHNNY', 'LOLLOBRIGIDA')\n",
            "(1, 91, 'CHRISTOPHER', 'BERRY')\n",
            "(1, 46, 'PARKER', 'GOLDBERG')\n",
            "(1, 114, 'MORGAN', 'MCDORMAND')\n",
            "(1, 183, 'RUSSELL', 'CLOSE')\n",
            "(1, 179, 'ED', 'GUINESS')\n",
            "(1, 4, 'JENNIFER', 'DAVIS')\n",
            "(1, 38, 'TOM', 'MCKELLEN')\n",
            "(1, 150, 'JAYNE', 'NOLTE')\n",
            "(1, 170, 'MENA', 'HOPPER')\n",
            "(1, 67, 'JESSICA', 'BAILEY')\n",
            "(1, 63, 'CAMERON', 'WRAY')\n",
            "(1, 10, 'CHRISTIAN', 'GABLE')\n",
            "(1, 33, 'MILLA', 'PECK')\n",
            "(1, 140, 'WHOOPI', 'HURT')\n",
            "(1, 1, 'PENELOPE', 'GUINESS')\n",
            "(1, 70, 'MICHELLE', 'MCCONAUGHEY')\n",
            "(1, 134, 'GENE', 'HOPKINS')\n",
            "(1, 139, 'EWAN', 'GOODING')\n"
          ]
        }
      ],
      "source": [
        "sql = '''\n",
        "  SELECT COUNT(*) AS count, a.actor_id, a.first_name, a.last_name \n",
        "  FROM film f \n",
        "  JOIN film_actor fa \n",
        "  ON f.film_id = fa.film_id \n",
        "  JOIN actor a \n",
        "  ON a.actor_id = fa.actor_id \n",
        "  JOIN film_category fc \n",
        "  ON fc.film_id = f.film_id\n",
        "  JOIN category c\n",
        "  ON c.category_id = fc.category_id\n",
        "  WHERE c.name = 'Comedy'\n",
        "  GROUP BY a.actor_id\n",
        "  ORDER BY count DESC\n",
        "'''\n",
        "\n",
        "with engine.connect() as connection:\n",
        "  results = connection.execute(text(sql))\n",
        "rows = results.fetchall()\n",
        "\n",
        "# Print some results just to see what you got\n",
        "for row in rows:\n",
        "  print(row)"
      ]
    },
    {
      "cell_type": "markdown",
      "metadata": {
        "id": "fSk2HB17oCv3"
      },
      "source": [
        "You can see from this result that the actor Bela Walken appeared in six comedy movies. But, how much more than the other actors is that? Is it close to the average? To find out, you could extract the counts and get the mean and median:"
      ]
    },
    {
      "cell_type": "code",
      "execution_count": 188,
      "metadata": {
        "colab": {
          "base_uri": "https://localhost:8080/"
        },
        "id": "q2Btk9Evn7f6",
        "outputId": "847c5fbe-ec5d-45c0-dc27-fd566c1b5378"
      },
      "outputs": [
        {
          "output_type": "stream",
          "name": "stdout",
          "text": [
            "The mean number of comedy movies by actor is 1.945578231292517\n",
            "The median number of comedy movies by actor is 2\n",
            "The standard deviation of appearances in comedy movies is 1.051953908863022\n"
          ]
        }
      ],
      "source": [
        "counts = [row[0] for row in rows]\n",
        "\n",
        "print('The mean number of comedy movies by actor is {}'.format(mean(counts)))\n",
        "print('The median number of comedy movies by actor is {}'.format(median(counts)))\n",
        "print('The standard deviation of appearances in comedy movies is {}'.format(standard_deviation(counts)))"
      ]
    },
    {
      "cell_type": "markdown",
      "metadata": {
        "id": "4Jz6IKXTqoJC"
      },
      "source": [
        "You can draw a few quick conclusions from this result. First, a low standard deviation implies that the data points are close to the mean. That is, most actors appear in two comedy movies. Also, Bela Walken's six appearances is more than two standard deviations away from the mean, making it a statistically significant value. This actor is definitely working harder than the rest and deserving of your honor.\n",
        "\n",
        "Of course, there is much more that can be done with this investigation before you make a conclusion like that."
      ]
    },
    {
      "cell_type": "markdown",
      "metadata": {
        "id": "LU0j17IXhJJ0"
      },
      "source": [
        "## From databases\n",
        "\n",
        "Sometimes, you'll want to get data from more than one database into pandas. You can use the information shown below to guide you on how to generate a DataFrame directly from the results of SQL queries. Using a SQL query to directly read into pandas will allow you to easily combine data from multiple tables."
      ]
    },
    {
      "cell_type": "code",
      "execution_count": 189,
      "metadata": {
        "colab": {
          "base_uri": "https://localhost:8080/",
          "height": 383
        },
        "id": "YcJ7ZOU9hJJ0",
        "outputId": "685e417b-f963-40fa-d2f9-b2500c57e923"
      },
      "outputs": [
        {
          "output_type": "stream",
          "name": "stdout",
          "text": [
            "Looking in indexes: https://pypi.org/simple, https://us-python.pkg.dev/colab-wheels/public/simple/\n",
            "Requirement already satisfied: psycopg2-binary in /usr/local/lib/python3.9/dist-packages (2.9.6)\n",
            "      age     sex     bmi  children smoker     region   charges\n",
            "0      19  female  27.900         0    yes  southwest  16884.90\n",
            "1      18    male  33.770         1     no  southeast   1725.55\n",
            "2      28    male  33.000         3     no  southeast   4449.46\n",
            "3      33    male  22.705         0     no  northwest  21984.50\n",
            "4      32    male  28.880         0     no  northwest   3866.86\n",
            "...   ...     ...     ...       ...    ...        ...       ...\n",
            "1333   50    male  30.970         3     no  northwest  10600.50\n",
            "1334   18  female  31.920         0     no  northeast   2205.98\n",
            "1335   18  female  36.850         0     no  southeast   1629.83\n",
            "1336   21  female  25.800         0     no  southwest   2007.94\n",
            "1337   61  female  29.070         0    yes  northwest  29141.40\n",
            "\n",
            "[1338 rows x 7 columns]\n"
          ]
        },
        {
          "output_type": "execute_result",
          "data": {
            "text/plain": [
              "   age     sex    bmi  children smoker     region   charges\n",
              "0   19  female  27.90         0    yes  southwest  16884.90\n",
              "1   18    male  33.77         1     no  southeast   1725.55"
            ],
            "text/html": [
              "\n",
              "  <div id=\"df-98e9fc72-7c22-49ca-9e8f-0daa16d17e67\">\n",
              "    <div class=\"colab-df-container\">\n",
              "      <div>\n",
              "<style scoped>\n",
              "    .dataframe tbody tr th:only-of-type {\n",
              "        vertical-align: middle;\n",
              "    }\n",
              "\n",
              "    .dataframe tbody tr th {\n",
              "        vertical-align: top;\n",
              "    }\n",
              "\n",
              "    .dataframe thead th {\n",
              "        text-align: right;\n",
              "    }\n",
              "</style>\n",
              "<table border=\"1\" class=\"dataframe\">\n",
              "  <thead>\n",
              "    <tr style=\"text-align: right;\">\n",
              "      <th></th>\n",
              "      <th>age</th>\n",
              "      <th>sex</th>\n",
              "      <th>bmi</th>\n",
              "      <th>children</th>\n",
              "      <th>smoker</th>\n",
              "      <th>region</th>\n",
              "      <th>charges</th>\n",
              "    </tr>\n",
              "  </thead>\n",
              "  <tbody>\n",
              "    <tr>\n",
              "      <th>0</th>\n",
              "      <td>19</td>\n",
              "      <td>female</td>\n",
              "      <td>27.90</td>\n",
              "      <td>0</td>\n",
              "      <td>yes</td>\n",
              "      <td>southwest</td>\n",
              "      <td>16884.90</td>\n",
              "    </tr>\n",
              "    <tr>\n",
              "      <th>1</th>\n",
              "      <td>18</td>\n",
              "      <td>male</td>\n",
              "      <td>33.77</td>\n",
              "      <td>1</td>\n",
              "      <td>no</td>\n",
              "      <td>southeast</td>\n",
              "      <td>1725.55</td>\n",
              "    </tr>\n",
              "  </tbody>\n",
              "</table>\n",
              "</div>\n",
              "      <button class=\"colab-df-convert\" onclick=\"convertToInteractive('df-98e9fc72-7c22-49ca-9e8f-0daa16d17e67')\"\n",
              "              title=\"Convert this dataframe to an interactive table.\"\n",
              "              style=\"display:none;\">\n",
              "        \n",
              "  <svg xmlns=\"http://www.w3.org/2000/svg\" height=\"24px\"viewBox=\"0 0 24 24\"\n",
              "       width=\"24px\">\n",
              "    <path d=\"M0 0h24v24H0V0z\" fill=\"none\"/>\n",
              "    <path d=\"M18.56 5.44l.94 2.06.94-2.06 2.06-.94-2.06-.94-.94-2.06-.94 2.06-2.06.94zm-11 1L8.5 8.5l.94-2.06 2.06-.94-2.06-.94L8.5 2.5l-.94 2.06-2.06.94zm10 10l.94 2.06.94-2.06 2.06-.94-2.06-.94-.94-2.06-.94 2.06-2.06.94z\"/><path d=\"M17.41 7.96l-1.37-1.37c-.4-.4-.92-.59-1.43-.59-.52 0-1.04.2-1.43.59L10.3 9.45l-7.72 7.72c-.78.78-.78 2.05 0 2.83L4 21.41c.39.39.9.59 1.41.59.51 0 1.02-.2 1.41-.59l7.78-7.78 2.81-2.81c.8-.78.8-2.07 0-2.86zM5.41 20L4 18.59l7.72-7.72 1.47 1.35L5.41 20z\"/>\n",
              "  </svg>\n",
              "      </button>\n",
              "      \n",
              "  <style>\n",
              "    .colab-df-container {\n",
              "      display:flex;\n",
              "      flex-wrap:wrap;\n",
              "      gap: 12px;\n",
              "    }\n",
              "\n",
              "    .colab-df-convert {\n",
              "      background-color: #E8F0FE;\n",
              "      border: none;\n",
              "      border-radius: 50%;\n",
              "      cursor: pointer;\n",
              "      display: none;\n",
              "      fill: #1967D2;\n",
              "      height: 32px;\n",
              "      padding: 0 0 0 0;\n",
              "      width: 32px;\n",
              "    }\n",
              "\n",
              "    .colab-df-convert:hover {\n",
              "      background-color: #E2EBFA;\n",
              "      box-shadow: 0px 1px 2px rgba(60, 64, 67, 0.3), 0px 1px 3px 1px rgba(60, 64, 67, 0.15);\n",
              "      fill: #174EA6;\n",
              "    }\n",
              "\n",
              "    [theme=dark] .colab-df-convert {\n",
              "      background-color: #3B4455;\n",
              "      fill: #D2E3FC;\n",
              "    }\n",
              "\n",
              "    [theme=dark] .colab-df-convert:hover {\n",
              "      background-color: #434B5C;\n",
              "      box-shadow: 0px 1px 3px 1px rgba(0, 0, 0, 0.15);\n",
              "      filter: drop-shadow(0px 1px 2px rgba(0, 0, 0, 0.3));\n",
              "      fill: #FFFFFF;\n",
              "    }\n",
              "  </style>\n",
              "\n",
              "      <script>\n",
              "        const buttonEl =\n",
              "          document.querySelector('#df-98e9fc72-7c22-49ca-9e8f-0daa16d17e67 button.colab-df-convert');\n",
              "        buttonEl.style.display =\n",
              "          google.colab.kernel.accessAllowed ? 'block' : 'none';\n",
              "\n",
              "        async function convertToInteractive(key) {\n",
              "          const element = document.querySelector('#df-98e9fc72-7c22-49ca-9e8f-0daa16d17e67');\n",
              "          const dataTable =\n",
              "            await google.colab.kernel.invokeFunction('convertToInteractive',\n",
              "                                                     [key], {});\n",
              "          if (!dataTable) return;\n",
              "\n",
              "          const docLinkHtml = 'Like what you see? Visit the ' +\n",
              "            '<a target=\"_blank\" href=https://colab.research.google.com/notebooks/data_table.ipynb>data table notebook</a>'\n",
              "            + ' to learn more about interactive tables.';\n",
              "          element.innerHTML = '';\n",
              "          dataTable['output_type'] = 'display_data';\n",
              "          await google.colab.output.renderOutput(dataTable, element);\n",
              "          const docLink = document.createElement('div');\n",
              "          docLink.innerHTML = docLinkHtml;\n",
              "          element.appendChild(docLink);\n",
              "        }\n",
              "      </script>\n",
              "    </div>\n",
              "  </div>\n",
              "  "
            ]
          },
          "metadata": {},
          "execution_count": 189
        }
      ],
      "source": [
        "# Install the necessary PostgreSQL database adapter for Python (may not be necessary)\n",
        "!pip install psycopg2-binary\n",
        "\n",
        "import pandas as pd\n",
        "\n",
        "# Database credentials\n",
        "postgres_user = 'dsbc_student'\n",
        "postgres_pw = '7*.8G9QH21'\n",
        "postgres_host = '142.93.121.174'\n",
        "postgres_port = '5432'\n",
        "postgres_db = 'medicalcosts'\n",
        "\n",
        "# Use the credentials to start a connection\n",
        "engine = create_engine('postgresql://{}:{}@{}:{}/{}'.format(\n",
        "    postgres_user, postgres_pw, postgres_host, postgres_port, postgres_db))\n",
        "\n",
        "# Use a database table to create a DataFrame\n",
        "insurance_df = pd.read_sql_query(text('SELECT * FROM medicalcosts'), con=engine.connect())\n",
        "\n",
        "# Look at some details of the DataFrame\n",
        "print(insurance_df)\n",
        "insurance_df.head(2)"
      ]
    },
    {
      "cell_type": "markdown",
      "metadata": {
        "id": "LE9E1Cf_hJJ0"
      },
      "source": [
        "With this query, you can now think of the DataFrame as an in-memory representation of an entire database table. It's equally possible to create DataFrames from queries featuring filters or joins, like this:"
      ]
    },
    {
      "cell_type": "code",
      "execution_count": 190,
      "metadata": {
        "colab": {
          "base_uri": "https://localhost:8080/",
          "height": 349
        },
        "id": "gifQDkK4hJJ1",
        "outputId": "dcddfac4-1e43-4110-d55e-bb638353213c"
      },
      "outputs": [
        {
          "output_type": "stream",
          "name": "stdout",
          "text": [
            "     age    bmi smoker     region\n",
            "0     19  27.90    yes  southwest\n",
            "1     31  25.74     no  southeast\n",
            "2     46  33.44     no  southeast\n",
            "3     37  27.74     no  northwest\n",
            "4     60  25.84     no  northwest\n",
            "..   ...    ...    ...        ...\n",
            "657   52  44.70     no  southwest\n",
            "658   18  31.92     no  northeast\n",
            "659   18  36.85     no  southeast\n",
            "660   21  25.80     no  southwest\n",
            "661   61  29.07    yes  northwest\n",
            "\n",
            "[662 rows x 4 columns]\n"
          ]
        },
        {
          "output_type": "execute_result",
          "data": {
            "text/plain": [
              "   age    bmi smoker     region\n",
              "0   19  27.90    yes  southwest\n",
              "1   31  25.74     no  southeast"
            ],
            "text/html": [
              "\n",
              "  <div id=\"df-e56b3728-9796-4089-bedd-e118d2d51dfe\">\n",
              "    <div class=\"colab-df-container\">\n",
              "      <div>\n",
              "<style scoped>\n",
              "    .dataframe tbody tr th:only-of-type {\n",
              "        vertical-align: middle;\n",
              "    }\n",
              "\n",
              "    .dataframe tbody tr th {\n",
              "        vertical-align: top;\n",
              "    }\n",
              "\n",
              "    .dataframe thead th {\n",
              "        text-align: right;\n",
              "    }\n",
              "</style>\n",
              "<table border=\"1\" class=\"dataframe\">\n",
              "  <thead>\n",
              "    <tr style=\"text-align: right;\">\n",
              "      <th></th>\n",
              "      <th>age</th>\n",
              "      <th>bmi</th>\n",
              "      <th>smoker</th>\n",
              "      <th>region</th>\n",
              "    </tr>\n",
              "  </thead>\n",
              "  <tbody>\n",
              "    <tr>\n",
              "      <th>0</th>\n",
              "      <td>19</td>\n",
              "      <td>27.90</td>\n",
              "      <td>yes</td>\n",
              "      <td>southwest</td>\n",
              "    </tr>\n",
              "    <tr>\n",
              "      <th>1</th>\n",
              "      <td>31</td>\n",
              "      <td>25.74</td>\n",
              "      <td>no</td>\n",
              "      <td>southeast</td>\n",
              "    </tr>\n",
              "  </tbody>\n",
              "</table>\n",
              "</div>\n",
              "      <button class=\"colab-df-convert\" onclick=\"convertToInteractive('df-e56b3728-9796-4089-bedd-e118d2d51dfe')\"\n",
              "              title=\"Convert this dataframe to an interactive table.\"\n",
              "              style=\"display:none;\">\n",
              "        \n",
              "  <svg xmlns=\"http://www.w3.org/2000/svg\" height=\"24px\"viewBox=\"0 0 24 24\"\n",
              "       width=\"24px\">\n",
              "    <path d=\"M0 0h24v24H0V0z\" fill=\"none\"/>\n",
              "    <path d=\"M18.56 5.44l.94 2.06.94-2.06 2.06-.94-2.06-.94-.94-2.06-.94 2.06-2.06.94zm-11 1L8.5 8.5l.94-2.06 2.06-.94-2.06-.94L8.5 2.5l-.94 2.06-2.06.94zm10 10l.94 2.06.94-2.06 2.06-.94-2.06-.94-.94-2.06-.94 2.06-2.06.94z\"/><path d=\"M17.41 7.96l-1.37-1.37c-.4-.4-.92-.59-1.43-.59-.52 0-1.04.2-1.43.59L10.3 9.45l-7.72 7.72c-.78.78-.78 2.05 0 2.83L4 21.41c.39.39.9.59 1.41.59.51 0 1.02-.2 1.41-.59l7.78-7.78 2.81-2.81c.8-.78.8-2.07 0-2.86zM5.41 20L4 18.59l7.72-7.72 1.47 1.35L5.41 20z\"/>\n",
              "  </svg>\n",
              "      </button>\n",
              "      \n",
              "  <style>\n",
              "    .colab-df-container {\n",
              "      display:flex;\n",
              "      flex-wrap:wrap;\n",
              "      gap: 12px;\n",
              "    }\n",
              "\n",
              "    .colab-df-convert {\n",
              "      background-color: #E8F0FE;\n",
              "      border: none;\n",
              "      border-radius: 50%;\n",
              "      cursor: pointer;\n",
              "      display: none;\n",
              "      fill: #1967D2;\n",
              "      height: 32px;\n",
              "      padding: 0 0 0 0;\n",
              "      width: 32px;\n",
              "    }\n",
              "\n",
              "    .colab-df-convert:hover {\n",
              "      background-color: #E2EBFA;\n",
              "      box-shadow: 0px 1px 2px rgba(60, 64, 67, 0.3), 0px 1px 3px 1px rgba(60, 64, 67, 0.15);\n",
              "      fill: #174EA6;\n",
              "    }\n",
              "\n",
              "    [theme=dark] .colab-df-convert {\n",
              "      background-color: #3B4455;\n",
              "      fill: #D2E3FC;\n",
              "    }\n",
              "\n",
              "    [theme=dark] .colab-df-convert:hover {\n",
              "      background-color: #434B5C;\n",
              "      box-shadow: 0px 1px 3px 1px rgba(0, 0, 0, 0.15);\n",
              "      filter: drop-shadow(0px 1px 2px rgba(0, 0, 0, 0.3));\n",
              "      fill: #FFFFFF;\n",
              "    }\n",
              "  </style>\n",
              "\n",
              "      <script>\n",
              "        const buttonEl =\n",
              "          document.querySelector('#df-e56b3728-9796-4089-bedd-e118d2d51dfe button.colab-df-convert');\n",
              "        buttonEl.style.display =\n",
              "          google.colab.kernel.accessAllowed ? 'block' : 'none';\n",
              "\n",
              "        async function convertToInteractive(key) {\n",
              "          const element = document.querySelector('#df-e56b3728-9796-4089-bedd-e118d2d51dfe');\n",
              "          const dataTable =\n",
              "            await google.colab.kernel.invokeFunction('convertToInteractive',\n",
              "                                                     [key], {});\n",
              "          if (!dataTable) return;\n",
              "\n",
              "          const docLinkHtml = 'Like what you see? Visit the ' +\n",
              "            '<a target=\"_blank\" href=https://colab.research.google.com/notebooks/data_table.ipynb>data table notebook</a>'\n",
              "            + ' to learn more about interactive tables.';\n",
              "          element.innerHTML = '';\n",
              "          dataTable['output_type'] = 'display_data';\n",
              "          await google.colab.output.renderOutput(dataTable, element);\n",
              "          const docLink = document.createElement('div');\n",
              "          docLink.innerHTML = docLinkHtml;\n",
              "          element.appendChild(docLink);\n",
              "        }\n",
              "      </script>\n",
              "    </div>\n",
              "  </div>\n",
              "  "
            ]
          },
          "metadata": {},
          "execution_count": 190
        }
      ],
      "source": [
        "# Execute a query and create a DataFrame\n",
        "females_df = pd.read_sql_query(text(\"SELECT age, bmi, smoker, region from medicalcosts WHERE sex = 'female'\"), con=engine.connect())\n",
        "\n",
        "# Now, see some details of the DataFrame\n",
        "print(females_df)\n",
        "females_df.head(2)"
      ]
    }
  ],
  "metadata": {
    "colab": {
      "provenance": [],
      "include_colab_link": true
    },
    "kernelspec": {
      "display_name": "Python 3 (ipykernel)",
      "language": "python",
      "name": "python3"
    },
    "language_info": {
      "codemirror_mode": {
        "name": "ipython",
        "version": 3
      },
      "file_extension": ".py",
      "mimetype": "text/x-python",
      "name": "python",
      "nbconvert_exporter": "python",
      "pygments_lexer": "ipython3",
      "version": "3.9.12"
    }
  },
  "nbformat": 4,
  "nbformat_minor": 0
}